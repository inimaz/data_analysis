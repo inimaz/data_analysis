{
 "cells": [
  {
   "cell_type": "markdown",
   "metadata": {},
   "source": [
    "# Idea: Classify teams by % of each type"
   ]
  },
  {
   "cell_type": "code",
   "execution_count": null,
   "metadata": {},
   "outputs": [],
   "source": []
  },
  {
   "cell_type": "code",
   "execution_count": null,
   "metadata": {},
   "outputs": [],
   "source": [
    "plotX[plotX['Tm']=='PHI']"
   ]
  },
  {
   "cell_type": "code",
   "execution_count": null,
   "metadata": {},
   "outputs": [],
   "source": [
    "teams= plotX.Tm.unique()\n",
    "teams = teams[teams!='TOT'] #Remove the TOT, since it is not a team\n",
    "\n",
    "columns=[i for i in range(k)]\n",
    "columns=columns.append('Tm')\n",
    "teams_df = pd.DataFrame(columns=columns)\n",
    "\n",
    "for team in teams:\n",
    "    values = pd.DataFrame()\n",
    "    values = plotX[plotX['Tm']==team]['Predicted_position'].value_counts(normalize=True)\n",
    "    values_row = {str(i):values[i] for i in range(k) if i in values}\n",
    "    \n",
    "    values_row['Tm']=team\n",
    "    teams_df= teams_df.append(values_row,ignore_index=True)"
   ]
  },
  {
   "cell_type": "code",
   "execution_count": null,
   "metadata": {},
   "outputs": [],
   "source": [
    "teams_df"
   ]
  },
  {
   "cell_type": "markdown",
   "metadata": {},
   "source": [
    "plotX[plotX['Predicted_position']==2]['Pos'].value_counts(normalize=True)"
   ]
  }
 ],
 "metadata": {
  "kernelspec": {
   "display_name": "Python 3",
   "language": "python",
   "name": "python3"
  },
  "language_info": {
   "codemirror_mode": {
    "name": "ipython",
    "version": 3
   },
   "file_extension": ".py",
   "mimetype": "text/x-python",
   "name": "python",
   "nbconvert_exporter": "python",
   "pygments_lexer": "ipython3",
   "version": "3.8.3"
  }
 },
 "nbformat": 4,
 "nbformat_minor": 4
}
